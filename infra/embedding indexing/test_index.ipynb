{
 "cells": [
  {
   "cell_type": "code",
   "execution_count": 2,
   "metadata": {},
   "outputs": [],
   "source": [
    "# Specify the index name\n",
    "index_name = \"test_index_nlp\""
   ]
  },
  {
   "cell_type": "code",
   "execution_count": 3,
   "metadata": {},
   "outputs": [],
   "source": [
    "from elasticsearch import Elasticsearch\n",
    "\n",
    "es = Elasticsearch(\n",
    "    cloud_id=os.environ[\"ELASTICSEARCH_CLOUD_ID\"],\n",
    "    api_key=os.environ[\"ELASTICSEARCH_API_KEY\"]\n",
    ")"
   ]
  },
  {
   "cell_type": "code",
   "execution_count": 4,
   "metadata": {},
   "outputs": [],
   "source": [
    "from langchain.vectorstores import FAISS\n",
    "from langchain.embeddings.openai import OpenAIEmbeddings\n",
    "\n",
    "embedding= OpenAIEmbeddings()"
   ]
  },
  {
   "cell_type": "code",
   "execution_count": 5,
   "metadata": {},
   "outputs": [],
   "source": [
    "query = \"What are the issues in employees mental health?\"\n",
    "\n",
    "query_vector = embedding.embed_query(query)"
   ]
  },
  {
   "cell_type": "code",
   "execution_count": 6,
   "metadata": {},
   "outputs": [],
   "source": [
    "knn_query = {\n",
    "    \"knn\": {\n",
    "        \"field\": 'vector',\n",
    "        \"query_vector\": query_vector,\n",
    "        \"k\": 5,\n",
    "        \"num_candidates\": 100\n",
    "    }\n",
    "}\n",
    "\n",
    "results = es.search(index=index_name, body=knn_query)"
   ]
  },
  {
   "cell_type": "code",
   "execution_count": 7,
   "metadata": {},
   "outputs": [
    {
     "name": "stdout",
     "output_type": "stream",
     "text": [
      "Document ID: oOsvQI0BXDUmfeZ5Hq1U, Score: 0.9490421\n",
      "Page Content: The \n",
      "message is clear: most employees are directly \n",
      "or indirectly affected by mental-health-related \n",
      "challenges, and they can’t be treated in isolation \n",
      "from the workforce or excluded altogether; they \n",
      "are the workforce.2\n",
      "Four of five HR leaders around the world report \n",
      "that mental health and well-being are now top \n",
      "priorities for their organizations.3 And despite \n",
      "concerns by some about a potential rise in “well-\n",
      "being washing,” estimates show that nine of ten \n",
      "organizations are offering some form of structured \n",
      "wellness programs to employees, incorporating \n",
      "benefits such as yoga classes, mindfulness and \n",
      "time management workshops, paid subscriptions \n",
      "to meditation apps, and extra days off work for \n",
      "mental healthcare.4\n",
      "However, many workers continue to feel \n",
      "overwhelmed.\n",
      "Page: 49\n",
      "Source: the-state-of-organizations-2023.pdf\n",
      "------------------------------\n",
      "Document ID: pOsvQI0BXDUmfeZ5IK1Z, Score: 0.9442787\n",
      "Page Content: The World Health Organization estimates that \n",
      "12 billion working days are lost annually around \n",
      "the world to depression and anxiety, at a cost \n",
      "of $1 trillion per year in lost productivity.6 Other \n",
      "research has found that employees who have \n",
      "endured at least one mental-health challenge \n",
      "report worse employee experiences—in some \n",
      "cases, experiencing promotion discrimination—\n",
      "than peers with no mental-health challenge do \n",
      "and were four times more likely to want to leave \n",
      "their organizations.7\n",
      "Benefits to employers of investing in mental \n",
      "health and well-being are seen in improved \n",
      "retention, attraction, and productivity.\n",
      "Page: 49\n",
      "Source: the-state-of-organizations-2023.pdf\n",
      "------------------------------\n",
      "Document ID: tesuQI0BXDUmfeZ5qqzb, Score: 0.94099486\n",
      "Page Content: Employees facing \n",
      "mental-health and well-\n",
      "being challenges are 4× \n",
      "more likely than others \n",
      "to want to leave their \n",
      "organizations\n",
      "Through the State of the Organizations Survey, conversations \n",
      "with CEOs and their teams, and the findings of recent McKinsey \n",
      "research, we have identified ten of the most important \n",
      "organizational shifts that businesses are grappling with today.\n",
      "Page: 7\n",
      "Source: the-state-of-organizations-2023.pdf\n",
      "------------------------------\n",
      "Document ID: qOsvQI0BXDUmfeZ5Iq1Q, Score: 0.93955284\n",
      "Page Content: Our research and experience in the field suggest \n",
      "that this may be because their organizations, with \n",
      "the best of intentions, have focused on launching \n",
      "interventions that remediate symptoms of \n",
      "mental distress rather than on addressing the \n",
      "root causes of poor mental health and well-\n",
      "being among employees.10\n",
      "Based on the McKinsey Health Institute scan of \n",
      "employers’ public declarations regarding mental \n",
      "health and well-being, it appears that many are \n",
      "focusing their investments on addressing the \n",
      "effects of poor mental health on individuals.\n",
      "Page: 50\n",
      "Source: the-state-of-organizations-2023.pdf\n",
      "------------------------------\n",
      "Document ID: qesvQI0BXDUmfeZ5Iq3N, Score: 0.93786013\n",
      "Page Content: There \n",
      "is no doubt that this is important.\n",
      "\n",
      "Because most \n",
      "employees are likely to experience at least some \n",
      "symptoms of poor mental health and well-being at \n",
      "some point during their working years, the type of \n",
      "support that they may need will fluctuate (Exhibit 21).11\n",
      "Finding the right formula \n",
      "In the search for best organizational practices, we \n",
      "examined some successful programs covering \n",
      "mental health and well-being at dozens of global \n",
      "companies.\n",
      "Page: 50\n",
      "Source: the-state-of-organizations-2023.pdf\n",
      "------------------------------\n"
     ]
    }
   ],
   "source": [
    "# Process and print the results\n",
    "for hit in results['hits']['hits']:\n",
    "    # print(hit)\n",
    "    document_id = hit['_id']\n",
    "    score = hit['_score']\n",
    "    page_content = hit['_source'].get('text', 'N/A')\n",
    "    page = hit['_source']['metadata'].get('page', 'N/A')\n",
    "    source = hit['_source']['metadata'].get('source', 'N/A')\n",
    "\n",
    "    print(f\"Document ID: {document_id}, Score: {score}\")\n",
    "    print(f\"Page Content: {page_content}\")\n",
    "    print(f\"Page: {page}\")\n",
    "    print(f\"Source: {source}\")\n",
    "    print(\"-\" * 30)"
   ]
  },
  {
   "cell_type": "code",
   "execution_count": null,
   "metadata": {},
   "outputs": [],
   "source": []
  },
  {
   "cell_type": "code",
   "execution_count": null,
   "metadata": {},
   "outputs": [],
   "source": []
  }
 ],
 "metadata": {
  "kernelspec": {
   "display_name": "Python 3",
   "language": "python",
   "name": "python3"
  },
  "language_info": {
   "codemirror_mode": {
    "name": "ipython",
    "version": 3
   },
   "file_extension": ".py",
   "mimetype": "text/x-python",
   "name": "python",
   "nbconvert_exporter": "python",
   "pygments_lexer": "ipython3",
   "version": "3.11.7"
  }
 },
 "nbformat": 4,
 "nbformat_minor": 2
}
